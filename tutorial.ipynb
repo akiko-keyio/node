{
 "cells": [
  {
   "cell_type": "markdown",
   "metadata": {},
   "source": [
    "# Node \u6846\u67b6\u4f7f\u7528\u6307\u5357\n",
    "\u672c notebook \u4ecb\u7ecd\u5982\u4f55\u4f7f\u7528 Node \u6846\u67b6\u6784\u5efa\u5e76\u8fd0\u884c\u4efb\u52a1\u6d41\u3002"
   ]
  },
  {
   "cell_type": "code",
   "metadata": {},
   "source": [
    "from node.node import Flow\n",
    "\n",
    "flow = Flow()\n",
    "\n",
    "@flow.task()\n",
    "def add(x, y):\n",
    "    return x + y\n",
    "\n",
    "@flow.task()\n",
    "def square(z):\n",
    "    return z * z\n",
    "\n",
    "result = flow.run(square(add(2,3)))\n",
    "print(result)\n"
   ]
  },
  {
   "cell_type": "markdown",
   "metadata": {},
   "source": [
    "## `repr` \u5c55\u793a\u811a\u672c\n",
    "\u8282\u70b9\u5bf9\u8c61\u5b9e\u73b0\u4e86 `__repr__`\uff0c\u53ef\u4ee5\u6253\u5370\u51fa\u7b49\u4ef7\u7684\u6267\u884c\u811a\u672c\uff0c\u4ee5\u4fbf\u8c03\u8bd5\u6216\u590d\u73b0\uff1a"
   ]
  },
  {
   "cell_type": "code",
   "metadata": {},
   "source": [
    "root = square(add(2,3))\n",
    "print(repr(root))\n"
   ]
  },
  {
   "cell_type": "markdown",
   "metadata": {},
   "source": [
    "## \u5305\u88c5\u51fd\u6570\u7684\u8981\u6c42\n",
    "\u4f7f\u7528 `Flow.task()` \u88c5\u9970\u7684\u51fd\u6570\u5e94\u5c3d\u91cf\u6ee1\u8db3\u4e0b\u5217\u6761\u4ef6\uff1a\n",
    "1. **\u7eaf\u51fd\u6570**\uff1a\u8f93\u51fa\u53ea\u53d6\u51b3\u4e8e\u8f93\u5165\u53c2\u6570\uff0c\u4e0d\u4f9d\u8d56\u5916\u90e8\u53ef\u53d8\u72b6\u6001\uff0c\u4fbf\u4e8e\u7f13\u5b58\u548c\u590d\u73b0\u3002\n",
    "2. **\u53c2\u6570\u53ef\u5e8f\u5217\u5316**\uff1a\u53c2\u6570\u503c\u5e94\u80fd\u901a\u8fc7 `repr` \u552f\u4e00\u8868\u793a\uff0c\u5982\u6570\u5b57\u3001\u5b57\u7b26\u4e32\u3001\u5217\u8868\u3001\u5b57\u5178\u3001\u96c6\u5408\u7b49\uff1b\u5bf9\u96c6\u5408\u3001\u5b57\u5178\u4f1a\u81ea\u52a8\u6392\u5e8f\uff0c\u4ee5\u4fdd\u8bc1\u53ef\u786e\u5b9a\u6027\u3002\n",
    "3. **\u663e\u5f0f\u53c2\u6570**\uff1a\u907f\u514d\u4f7f\u7528 `*args` \u6216 `**kwargs` \u7684\u52a8\u6001\u5f62\u53c2\uff0c\u4fbf\u4e8e\u6846\u67b6\u89e3\u6790\u53c2\u6570\u5e76\u751f\u6210\u7b7e\u540d\u3002\n",
    "\u9075\u5faa\u4ee5\u4e0a\u7ea6\u5b9a\u53ef\u4ee5\u8ba9\u8282\u70b9\u7684\u7f13\u5b58\u548c\u53bb\u91cd\u673a\u5236\u53d1\u6325\u6700\u4f73\u6548\u679c\u3002"
   ]
  }
 ],
 "metadata": {
  "language_info": {
   "name": "python",
   "pygments_lexer": "ipython3"
  }
 },
 "nbformat": 4,
 "nbformat_minor": 5
}
